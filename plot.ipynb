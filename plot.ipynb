{
 "cells": [
  {
   "cell_type": "code",
   "execution_count": 1,
   "metadata": {},
   "outputs": [],
   "source": [
    "from interpret import set_visualize_provider\n",
    "from interpret.provider import InlineProvider\n",
    "set_visualize_provider(InlineProvider())\n"
   ]
  },
  {
   "cell_type": "code",
   "execution_count": 1,
   "metadata": {},
   "outputs": [
    {
     "data": {
      "text/html": [
       "<!-- http://127.0.0.1:7001/140270066545232/ -->\n",
       "<iframe src=\"http://127.0.0.1:7001/140270066545232/\" width=100% height=800 frameBorder=\"0\"></iframe>"
      ]
     },
     "metadata": {},
     "output_type": "display_data"
    }
   ],
   "source": [
    "import joblib\n",
    "from interpret import show\n",
    "import matplotlib.pyplot as plt\n",
    "\n",
    "# Load the EBM model from a pickle file\n",
    "model_file = './models/best_ebm_model.pkl'\n",
    "ebm_model = joblib.load(model_file)\n",
    "\n",
    "# Update the feature names\n",
    "#new_feature_names = [\"week_indicator\",\"pat_id\",\"min_bpm_mean\",\"max_bpm_mean\",\"mean_bpm_mean\",\"std_bpm_mean\",\"min_steps\",\"max_steps\",\"mean_steps\",\"std_steps\",\"min_min\",\"max_min\",\"mean_min\",\"std_min\", \"min_max\",\"max_max\",\"mean_max\",\"std_max\",\"min_RHR\",\"max_RHR\",\"mean_RHR\",\"std_RHR\",\"min_MHR\",\"max_MHR\",\"mean_MHR\",\"std_MHR\",\"min_HRR\",\"max_HRR\",\"mean_HRR\",\"std_HRR\",\"days_treatment_start\",\"age\",\"sex\",\"diagnosis\",\"bmi\",\"smoker\",\"drinker\",\"site\",\"treatments\"]\n",
    "#ebm_model.feature_names = new_feature_names\n",
    "#assert len(new_feature_names) == len(original_feature_names)\n",
    "\n",
    "# Update feature names in the model\n",
    "#ebm_model.feature_names = new_feature_names\n",
    "\n",
    "# Get the global explanation for the EBM model\n",
    "ebm_global = ebm_model.explain_global(name='EBM Feature Importances')\n",
    "#print(len(new_feature_names))\n",
    "#for i, feature in enumerate(new_feature_names):\n",
    "#    ebm_global.data()['names'][i] = feature\n",
    "\n",
    "\n",
    "\n",
    "\n",
    "# Render the plot\n",
    "show(ebm_global, share_tables=True)\n",
    "\n",
    "# Save the plot to the filesystem\n",
    "#fig.write_image(\"ebm_feature_contributions.png\")\n",
    "\n",
    "# Optionally, display the plot inline (if running in an environment that supports it)\n",
    "# plt.show()\n"
   ]
  }
 ],
 "metadata": {
  "kernelspec": {
   "display_name": ".venv",
   "language": "python",
   "name": "python3"
  },
  "language_info": {
   "codemirror_mode": {
    "name": "ipython",
    "version": 3
   },
   "file_extension": ".py",
   "mimetype": "text/x-python",
   "name": "python",
   "nbconvert_exporter": "python",
   "pygments_lexer": "ipython3",
   "version": "3.10.12"
  }
 },
 "nbformat": 4,
 "nbformat_minor": 2
}
